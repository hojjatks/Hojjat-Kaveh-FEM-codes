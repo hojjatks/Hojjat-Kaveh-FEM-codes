{
 "cells": [
  {
   "cell_type": "code",
   "execution_count": 1,
   "metadata": {},
   "outputs": [],
   "source": [
    "import numpy as np\n",
    "from matplotlib import pyplot as plt\n",
    "## Element stiffness matrices for a truss element\n",
    "class GreenTrussElement:\n",
    "    def __init__(self,GlobalInitPosition,GlobalDisplacement,E,A0):\n",
    "        #GlobalInitPosition # X1 Y1 X2 Y2 global coordinates of the nodes\n",
    "        #GlobalDisplacement # u1 v1 u2 v2 global displacement vector\n",
    "        self.GlobalInitPosition=GlobalInitPosition\n",
    "        self.GlobalDisplacement=GlobalDisplacement\n",
    "        self.E=E\n",
    "        self.A0=A0\n",
    "        self.l0=np.sqrt((GlobalInitPosition[2]-GlobalInitPosition[0])**2+(GlobalInitPosition[3]-GlobalInitPosition[1])**2)\n",
    "        \n",
    "    def ElementChar(self):\n",
    "\n",
    "\n",
    "        self.x21=self.GlobalInitPosition[2]-self.GlobalInitPosition[0]\n",
    "        self.y21=self.GlobalInitPosition[3]-self.GlobalInitPosition[1]\n",
    "        self.u21=self.GlobalDisplacement[2]-self.GlobalDisplacement[0]\n",
    "        self.v21=self.GlobalDisplacement[3]-self.GlobalDisplacement[1]\n",
    "        \n",
    "        self.b=(np.transpose(np.array([-(self.x21+self.u21), -(self.y21+self.v21), (self.x21+self.u21), (self.y21+self.v21)])))/(self.l0**2)\n",
    "        self.epsilon=(2*self.x21*self.u21 + 2*self.y21*self.v21 +self.u21**2 +self.v21**2)/(2*self.l0*2)\n",
    "        self.sigma=self.E*self.epsilon\n",
    "        K_a=np.array([[1,0,-1,0],[0,1,0,-1],[-1,0,1,0],[0 ,-1, 0 ,1]])/(self.l0**2)\n",
    "        self.q=self.A0*self.l0*self.sigma*np.transpose(self.b)\n",
    "        #K= A0L0(b'EB+sigma+K_a)\n",
    "        self.K= self.A0*self.l0*(self.E*(np.transpose(self.b)).dot(self.b)+ self.sigma*K_a)\n",
    "def Assemble(K_elements):\n",
    "    NumOfElements=K_elements.shape[0]\n",
    "    # K_elements is the tensor of (NumOfElements)*4*4\n",
    "    K=np.zeros(((NumOfElements+1)*2,(NumOfElements+1)*2))\n",
    "    for i in range(NumOfElements):\n",
    "        K_temp=np.zeros(((NumOfElements+1)*2,(NumOfElements+1)*2))\n",
    "        K_temp=K_elements[i,:,:]\n",
    "        K[(i)*2:(i)*2+4,(i)*2:(i)*2+4] +=K_temp\n",
    "    return K"
   ]
  },
  {
   "cell_type": "code",
   "execution_count": 2,
   "metadata": {},
   "outputs": [],
   "source": [
    "F=(np.array([[0, 0, 0, -1, 0, 0]])).T"
   ]
  },
  {
   "cell_type": "code",
   "execution_count": 9,
   "metadata": {},
   "outputs": [],
   "source": [
    "## Arc Length Control\n",
    "tol=0.005\n",
    "A0=.01\n",
    "E=2*100000\n",
    "\n",
    "NumberOfPoints=3\n",
    "\n",
    "element1=GreenTrussElement([0,0,1,.1],np.zeros((4,1)),E,A0)\n",
    "element1.ElementChar()\n",
    "\n",
    "element2=GreenTrussElement([1,.1,1.5,0],np.zeros((4,1)),E,A0)\n",
    "element2.ElementChar()\n",
    "\n",
    "K_elements=np.zeros((2,4,4))\n",
    "\n",
    "q=np.zeros((6,1))\n",
    "\n",
    "g=np.zeros((6,1))\n",
    "\n",
    "K_a=np.zeros((7,7))\n",
    "\n",
    "K_a[0:6,6]=[0, 0, 0, +1, 0, 0]\n",
    "\n",
    "d_plot=np.zeros((NumberOfPoints,7))\n",
    "\n",
    "g_temp=np.array([0])\n",
    "\n",
    "landa=0\n",
    "\n",
    "d=np.transpose(np.array([[0,0,-.00001,-.01,0,0,.1]]))\n",
    "\n",
    "for i in range(1,NumberOfPoints,1):\n",
    "\n",
    "     r=1\n",
    "     counter2 =1 \n",
    "     while r>tol:\n",
    "        if counter2==1:\n",
    "            d+=np.transpose(np.array([[0,0,0,-.00001,0,0,0]]))\n",
    "            counter2+=1\n",
    "\n",
    "        element1.GlobalDisplacement=d[0:4]\n",
    "        element2.GlobalDisplacement=d[2:6]\n",
    "        element1.ElementChar()\n",
    "        element2.ElementChar()        \n",
    "        q1=element1.q\n",
    "        q2=element2.q\n",
    "        \n",
    "        K1=element1.K\n",
    "        K2=element2.K\n",
    "        K_elements[0,:,:]=K1\n",
    "        K_elements[1,:,:]=K2\n",
    "        \n",
    "        K=Assemble(K_elements)\n",
    "        for counter in [0,1,4,5]:\n",
    "                K[counter,:]=np.zeros((1,6))\n",
    "                K[:,counter]=np.zeros((1,6))\n",
    "        for j in [0,1,4,5]:\n",
    "                K[j,j]=1\n",
    "        \n",
    "        K_a[0:6,0:6]=K\n",
    "        \n",
    "        landa=d[6]\n",
    "        \n",
    "        q=np.array([[0,0,q1[2]+q2[0],q1[3]+q2[1],0,0]]).T   \n",
    "        \n",
    "        g=q-landa*F\n",
    "\n",
    "        du=d[2]-d_plot[i-1,2]\n",
    "        dv=d[3]-d_plot[i-1,3]\n",
    "        dlanda=d[6]-d_plot[i-1,6]\n",
    "        \n",
    "        \n",
    "        g_temp=du**2+dv**2+dlanda**2-.00005\n",
    "        \n",
    "        G=np.vstack([g,g_temp])\n",
    "        \n",
    "        K_a[6,:]=np.array([0,0,2*du,2*dv,0,0,2*dlanda])\n",
    "        \n",
    "        delta_d_landa=-np.matmul(np.linalg.inv(K_a),(G))\n",
    "        if i>1:\n",
    "            dummy=d_plot[i-1,:]-d_plot[i-2,:]\n",
    "            dummy2=np.matmul(np.transpose(dummy),delta_d_landa)\n",
    "            if dummy2>0:\n",
    "                delta_d_landa=-delta_d_landa\n",
    "        \n",
    "        d=d+delta_d_landa\n",
    "\n",
    "        r=abs(G[0])+abs(G[1])+abs(G[2])+abs(G[3])+abs(G[4])+abs(G[5])+abs(G[6])\n",
    "        if r < tol :\n",
    "            d_plot[i,:]=d[:,0]"
   ]
  },
  {
   "cell_type": "code",
   "execution_count": 10,
   "metadata": {},
   "outputs": [
    {
     "data": {
      "text/plain": [
       "Text(0, 0.5, '-F')"
      ]
     },
     "execution_count": 10,
     "metadata": {},
     "output_type": "execute_result"
    },
    {
     "data": {
      "image/png": "[encoded data removed]",
      "text/plain": [
       "<Figure size 432x288 with 1 Axes>"
      ]
     },
     "metadata": {
      "needs_background": "light"
     },
     "output_type": "display_data"
    }
   ],
   "source": [
    "plt.plot(-d_plot[:,3] ,d_plot[:,-1],'o-')\n",
    "plt.xlabel('v')\n",
    "plt.ylabel('-F')"
   ]
  },
  {
   "cell_type": "code",
   "execution_count": null,
   "metadata": {},
   "outputs": [],
   "source": [
    "d_plot"
   ]
  },
  {
   "cell_type": "code",
   "execution_count": null,
   "metadata": {},
   "outputs": [],
   "source": [
    "dv"
   ]
  },
  {
   "cell_type": "code",
   "execution_count": null,
   "metadata": {},
   "outputs": [],
   "source": [
    "g_temp"
   ]
  },
  {
   "cell_type": "code",
   "execution_count": 7,
   "metadata": {},
   "outputs": [
    {
     "ename": "NameError",
     "evalue": "name 'iه' is not defined",
     "output_type": "error",
     "traceback": [
      "\u001b[1;31m---------------------------------------------------------------------------\u001b[0m",
      "\u001b[1;31mNameError\u001b[0m                                 Traceback (most recent call last)",
      "\u001b[1;32m<ipython-input-7-e4913c11c25b>\u001b[0m in \u001b[0;36m<module>\u001b[1;34m\u001b[0m\n\u001b[1;32m----> 1\u001b[1;33m \u001b[0miه\u001b[0m\u001b[1;33m\u001b[0m\u001b[1;33m\u001b[0m\u001b[0m\n\u001b[0m",
      "\u001b[1;31mNameError\u001b[0m: name 'iه' is not defined"
     ]
    }
   ],
   "source": [
    "iه"
   ]
  },
  {
   "cell_type": "code",
   "execution_count": 8,
   "metadata": {},
   "outputs": [
    {
     "data": {
      "text/plain": [
       "1"
      ]
     },
     "execution_count": 8,
     "metadata": {},
     "output_type": "execute_result"
    }
   ],
   "source": [
    "i"
   ]
  },
  {
   "cell_type": "code",
   "execution_count": 11,
   "metadata": {},
   "outputs": [
    {
     "data": {
      "text/plain": [
       "Text(0, 0.5, '-F')"
      ]
     },
     "execution_count": 11,
     "metadata": {},
     "output_type": "execute_result"
    },
    {
     "data": {
      "image/png": "[encoded data removed]",
      "text/plain": [
       "<Figure size 432x288 with 1 Axes>"
      ]
     },
     "metadata": {
      "needs_background": "light"
     },
     "output_type": "display_data"
    }
   ],
   "source": [
    "plt.plot(d_plot[:,2] ,d_plot[:,-1],'o-')\n",
    "plt.xlabel('u')\n",
    "plt.ylabel('-F')"
   ]
  },
  {
   "cell_type": "code",
   "execution_count": null,
   "metadata": {},
   "outputs": [],
   "source": [
    "du\n",
    "d"
   ]
  },
  {
   "cell_type": "code",
   "execution_count": null,
   "metadata": {},
   "outputs": [],
   "source": [
    "if i>1\n",
    "    dummy=d_plot[i-1,:]-d_plot[i-2,:]\n",
    "    dummy2=np.matmul(np.transpose(dummy),delta_d_landa)\n",
    "    if dummy2<0\n",
    "        delta_d_landa=-delta_d_landa\n"
   ]
  },
  {
   "cell_type": "code",
   "execution_count": null,
   "metadata": {},
   "outputs": [],
   "source": [
    "d"
   ]
  },
  {
   "cell_type": "code",
   "execution_count": null,
   "metadata": {},
   "outputs": [],
   "source": [
    "d_plot"
   ]
  },
  {
   "cell_type": "code",
   "execution_count": null,
   "metadata": {},
   "outputs": [],
   "source": []
  }
 ],
 "metadata": {
  "kernelspec": {
   "display_name": "Python 3",
   "language": "python",
   "name": "python3"
  },
  "language_info": {
   "codemirror_mode": {
    "name": "ipython",
    "version": 3
   },
   "file_extension": ".py",
   "mimetype": "text/x-python",
   "name": "python",
   "nbconvert_exporter": "python",
   "pygments_lexer": "ipython3",
   "version": "3.7.6"
  }
 },
 "nbformat": 4,
 "nbformat_minor": 4
}
